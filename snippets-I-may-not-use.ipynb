{
 "cells": [
  {
   "cell_type": "code",
   "execution_count": null,
   "metadata": {},
   "outputs": [],
   "source": []
  },
  {
   "cell_type": "code",
   "execution_count": null,
   "metadata": {},
   "outputs": [],
   "source": [
    "# So what we want to do here is put them into another list\n",
    "# So that we can then order that list \n",
    "\n",
    "english_accents = df['accents'].unique()\n",
    "\n",
    "english_accents_dict = {} \n",
    "english_accents_list = []\n",
    "english_accents_list_by_total =[]\n",
    "\n",
    "for accent in english_accents:\n",
    "    accent_total = len(df.loc[df['accents'] == accent])\n",
    "    english_accents_dict[accent] = accent_total\n",
    "    \n",
    "# Dict structures in Python are not sortable\n",
    "# So we're going to iterate so that we can have a sorted list \n",
    "\n",
    "for accent_total in english_accents_dict.items(): \n",
    "    english_accents_list.append(accent_total)\n",
    "\n",
    "#print ('\\n')\n",
    "#print ('breakpoint 1')\n",
    "#print ('\\n')\n",
    "\n",
    "# print the list \n",
    "#print(english_accents_list)\n",
    "    \n",
    "# Now, we want to order the list\n",
    "# But if we use sort(), it will sort by the first element, which is the accent itself\n",
    "# But we want to sort on the number of occurrences of that accent \n",
    "\n",
    "for accents_list in english_accents_list: \n",
    "    #print(accents_list)\n",
    "    reversed = accents_list[::-1] # they're tuples, reverse() won't work\n",
    "    #print(reversed)\n",
    "    english_accents_list_by_total.append(reversed)\n",
    "    \n",
    "english_accents_list_by_total.sort(reverse=True)\n",
    "    \n",
    "#print ('\\n')\n",
    "#print ('breakpoint 2')\n",
    "#print ('\\n')\n",
    "\n",
    "# print the size of the list     \n",
    "print('Size of the list is: ')\n",
    "print(len(english_accents_list_by_total))\n",
    "print('---')\n",
    "\n",
    "# print the sorted list\n",
    "print('Sorted list is: ')\n",
    "pp.pprint(english_accents_list_by_total)\n",
    "\n",
    "\n",
    "\n"
   ]
  }
 ],
 "metadata": {
  "kernelspec": {
   "display_name": "kathy-cv-bias",
   "language": "python",
   "name": "kathy-cv-bias"
  },
  "language_info": {
   "codemirror_mode": {
    "name": "ipython",
    "version": 3
   },
   "file_extension": ".py",
   "mimetype": "text/x-python",
   "name": "python",
   "nbconvert_exporter": "python",
   "pygments_lexer": "ipython3",
   "version": "3.8.10"
  }
 },
 "nbformat": 4,
 "nbformat_minor": 4
}
