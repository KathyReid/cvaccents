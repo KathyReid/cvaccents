{
 "cells": [
  {
   "cell_type": "markdown",
   "id": "747d78b5",
   "metadata": {},
   "source": [
    "# Get demographic details from an MCV dataset \n",
    "\n",
    "The purpose of this script is to get demographic details from an MCV downloaded dataset. \n",
    "This informs decision making around, for example, how much of the data in a particular language, has demographic details, and if so, what they are. "
   ]
  },
  {
   "cell_type": "code",
   "execution_count": 31,
   "id": "9e2024b2",
   "metadata": {},
   "outputs": [],
   "source": [
    "# imports go here \n",
    "\n",
    "# io \n",
    "import io\n",
    "\n",
    "# pandas \n",
    "import pandas as pd\n"
   ]
  },
  {
   "cell_type": "code",
   "execution_count": 33,
   "id": "fd75b9e3",
   "metadata": {},
   "outputs": [],
   "source": [
    "# specify the path to the TSV file - this should be `validated.tsv` from the MCV download \n",
    "#filePath = '/media/kathyreid/Seagate Backup Plus Drive/cv-datasets/ru/validated.tsv'\n",
    "#filePath = '/media/kathyreid/Seagate Backup Plus Drive/cv-datasets/fr/validated.tsv'\n",
    "#filePath = '/media/kathyreid/Elements/de/validated.tsv'\n",
    "#filePath = '/media/kathyreid/Elements/es/validated.tsv'\n",
    "filePath = '/media/kathyreid/Elements/en/validated.tsv'\n",
    "\n",
    "# put it into a DataFrame \n",
    "df = pd.read_csv(filePath, sep='\\t')"
   ]
  },
  {
   "cell_type": "code",
   "execution_count": 34,
   "id": "e810b905",
   "metadata": {},
   "outputs": [
    {
     "data": {
      "text/plain": [
       "<bound method DataFrame.value_counts of                                                  client_id  \\\n",
       "0        0013037a1d45cc33460806cc3f8ecee9d536c45639ba4c...   \n",
       "1        0014c5a3e5715a54855257779b89c2bb498d470b225866...   \n",
       "2        001509f4624a7dee75247f6a8b642c4a0d09f8be3eeea6...   \n",
       "3        003fb666a99eb3aa3ba05d9c8641c18e55cf7d34d1b981...   \n",
       "4        004017ba82a23768d58dff3b91da8e8f951ea5fb6d3cd9...   \n",
       "...                                                    ...   \n",
       "1425779  372293e65cdab88771e028a4351651ab2eff64438ddafc...   \n",
       "1425780  372293e65cdab88771e028a4351651ab2eff64438ddafc...   \n",
       "1425781  372293e65cdab88771e028a4351651ab2eff64438ddafc...   \n",
       "1425782  372293e65cdab88771e028a4351651ab2eff64438ddafc...   \n",
       "1425783  372293e65cdab88771e028a4351651ab2eff64438ddafc...   \n",
       "\n",
       "                                 path  \\\n",
       "0          common_voice_en_699711.mp3   \n",
       "1        common_voice_en_21953345.mp3   \n",
       "2        common_voice_en_18132047.mp3   \n",
       "3        common_voice_en_17263741.mp3   \n",
       "4        common_voice_en_17893917.mp3   \n",
       "...                               ...   \n",
       "1425779  common_voice_en_27214904.mp3   \n",
       "1425780  common_voice_en_27214953.mp3   \n",
       "1425781  common_voice_en_27214957.mp3   \n",
       "1425782  common_voice_en_27214975.mp3   \n",
       "1425783  common_voice_en_27214978.mp3   \n",
       "\n",
       "                                                  sentence  up_votes  \\\n",
       "0                                     She'll be all right.         2   \n",
       "1                                                      six         3   \n",
       "2                               All's well that ends well.         2   \n",
       "3                                          Do you mean it?         2   \n",
       "4        The new patch is less invasive than the old on...         2   \n",
       "...                                                    ...       ...   \n",
       "1425779  He was joined by Moni Scaria, Jeff Kollman and...         2   \n",
       "1425780  He can also be seen in the Fred Allen vehicle,...         2   \n",
       "1425781  Despite this apparent conservatism, the journa...         2   \n",
       "1425782  Notable speakers include John Atta Mills, Maya...         2   \n",
       "1425783  Honest Ed's gained fame for its marketing stun...         2   \n",
       "\n",
       "         down_votes      age gender accent locale    segment  \n",
       "0                 1      NaN    NaN    NaN     en        NaN  \n",
       "1                 2      NaN    NaN    NaN     en  Benchmark  \n",
       "2                 0      NaN    NaN    NaN     en        NaN  \n",
       "3                 0      NaN    NaN    NaN     en        NaN  \n",
       "4                 1      NaN    NaN    NaN     en        NaN  \n",
       "...             ...      ...    ...    ...    ...        ...  \n",
       "1425779           0  fifties   male    NaN     en        NaN  \n",
       "1425780           0  fifties   male    NaN     en        NaN  \n",
       "1425781           0  fifties   male    NaN     en        NaN  \n",
       "1425782           0  fifties   male    NaN     en        NaN  \n",
       "1425783           1  fifties   male    NaN     en        NaN  \n",
       "\n",
       "[1425784 rows x 10 columns]>"
      ]
     },
     "execution_count": 34,
     "metadata": {},
     "output_type": "execute_result"
    }
   ],
   "source": [
    "# summary data \n",
    "df.value_counts"
   ]
  },
  {
   "cell_type": "code",
   "execution_count": 35,
   "id": "74e3fefb",
   "metadata": {},
   "outputs": [
    {
     "data": {
      "text/plain": [
       "65709"
      ]
     },
     "execution_count": 35,
     "metadata": {},
     "output_type": "execute_result"
    }
   ],
   "source": [
    "# unique contributors \n",
    "len(df['client_id'].unique())"
   ]
  },
  {
   "cell_type": "code",
   "execution_count": 36,
   "id": "f8e90d46",
   "metadata": {},
   "outputs": [
    {
     "data": {
      "text/plain": [
       "907791"
      ]
     },
     "execution_count": 36,
     "metadata": {},
     "output_type": "execute_result"
    }
   ],
   "source": [
    "# rows that have metadata \n",
    "len(df[df['age'].notna()])\n"
   ]
  },
  {
   "cell_type": "code",
   "execution_count": 6,
   "id": "4156a03e",
   "metadata": {},
   "outputs": [
    {
     "data": {
      "text/plain": [
       "array([nan, 'fourties', 'teens', 'twenties', 'thirties', 'fifties',\n",
       "       'sixties'], dtype=object)"
      ]
     },
     "execution_count": 6,
     "metadata": {},
     "output_type": "execute_result"
    }
   ],
   "source": [
    "# get all the age ranges \n",
    "df['age'].unique()"
   ]
  },
  {
   "cell_type": "code",
   "execution_count": 37,
   "id": "9769ef76",
   "metadata": {},
   "outputs": [
    {
     "name": "stdout",
     "output_type": "stream",
     "text": [
      "teens:  83073\n",
      "twenties:  337944\n",
      "thirties:  191258\n",
      "fourties:  139187\n",
      "fifties:  72327\n",
      "sixties:  70423\n",
      "seventies:  12364\n",
      "eighties:  1120\n",
      "nineties:  95\n",
      "NaN:  517993\n"
     ]
    }
   ],
   "source": [
    "# age ranges\n",
    "\n",
    "print('teens: ', len(df.loc[df['age'] == 'teens']))\n",
    "print('twenties: ', len(df.loc[df['age'] == 'twenties']))\n",
    "print('thirties: ', len(df.loc[df['age'] == 'thirties']))\n",
    "print('fourties: ', len(df.loc[df['age'] == 'fourties']))\n",
    "print('fifties: ', len(df.loc[df['age'] == 'fifties']))\n",
    "print('sixties: ', len(df.loc[df['age'] == 'sixties']))\n",
    "print('seventies: ', len(df.loc[df['age'] == 'seventies']))\n",
    "print('eighties: ', len(df.loc[df['age'] == 'eighties']))\n",
    "print('nineties: ', len(df.loc[df['age'] == 'nineties']))\n",
    "\n",
    "print('NaN: ', len(df.loc[df['age'].isna()]))"
   ]
  },
  {
   "cell_type": "code",
   "execution_count": 8,
   "id": "5e8954f6",
   "metadata": {},
   "outputs": [
    {
     "data": {
      "text/plain": [
       "array([nan, 'female', 'male', 'other'], dtype=object)"
      ]
     },
     "execution_count": 8,
     "metadata": {},
     "output_type": "execute_result"
    }
   ],
   "source": [
    "# get the genders \n",
    "\n",
    "df['gender'].unique()"
   ]
  },
  {
   "cell_type": "code",
   "execution_count": 38,
   "id": "9ee23ac9",
   "metadata": {},
   "outputs": [
    {
     "name": "stdout",
     "output_type": "stream",
     "text": [
      "female:  216797\n",
      "male:  666819\n",
      "other:  27243\n",
      "NaN:  514925\n"
     ]
    }
   ],
   "source": [
    "# genders\n",
    "\n",
    "print('female: ', len(df.loc[df['gender'] == 'female']))\n",
    "print('male: ', len(df.loc[df['gender'] == 'male']))\n",
    "print('other: ', len(df.loc[df['gender'] == 'other']))\n",
    "\n",
    "print('NaN: ', len(df.loc[df['gender'].isna()]))"
   ]
  },
  {
   "cell_type": "code",
   "execution_count": 10,
   "id": "59f0583c",
   "metadata": {},
   "outputs": [
    {
     "data": {
      "text/plain": [
       "array([nan, 'canada', 'france', 'belgium', 'cote_d_ivoire', 'senegal',\n",
       "       'algeria', 'burundi', 'united_kingdom', 'cameroon',\n",
       "       'united_states', 'reunion', 'germany', 'romania', 'morocco',\n",
       "       'tunisia', 'switzerland', 'martinique', 'other', 'guadeloupe',\n",
       "       'new_caledonia', 'benin', 'congo_brazzaville', 'monaco', 'gabon',\n",
       "       'luxembourg', 'st_pierre_et_miquelon', 'mayotte', 'italy',\n",
       "       'congo_kinshasa', 'ireland', 'haiti', 'madagascar', 'portugal',\n",
       "       'netherlands', 'french_guiana'], dtype=object)"
      ]
     },
     "execution_count": 10,
     "metadata": {},
     "output_type": "execute_result"
    }
   ],
   "source": [
    "# get the accents \n",
    "\n",
    "df['accent'].unique()"
   ]
  },
  {
   "cell_type": "code",
   "execution_count": 15,
   "id": "577bb6d9",
   "metadata": {},
   "outputs": [
    {
     "name": "stdout",
     "output_type": "stream",
     "text": [
      "nan :  0\n",
      "canada :  8682\n",
      "france :  347436\n",
      "belgium :  9679\n",
      "cote_d_ivoire :  104\n",
      "senegal :  41\n",
      "algeria :  354\n",
      "burundi :  1\n",
      "united_kingdom :  259\n",
      "cameroon :  56\n",
      "united_states :  751\n",
      "reunion :  1053\n",
      "germany :  274\n",
      "romania :  121\n",
      "morocco :  59\n",
      "tunisia :  16\n",
      "switzerland :  3989\n",
      "martinique :  68\n",
      "other :  43\n",
      "guadeloupe :  133\n",
      "new_caledonia :  144\n",
      "benin :  996\n",
      "congo_brazzaville :  5\n",
      "monaco :  109\n",
      "gabon :  5\n",
      "luxembourg :  14\n",
      "st_pierre_et_miquelon :  6\n",
      "mayotte :  6\n",
      "italy :  57\n",
      "congo_kinshasa :  10\n",
      "ireland :  14\n",
      "haiti :  34\n",
      "madagascar :  162\n",
      "portugal :  17\n",
      "netherlands :  81\n",
      "french_guiana :  115\n",
      "NaN:  167394\n"
     ]
    }
   ],
   "source": [
    "# french accents \n",
    "\n",
    "french_accents = df['accent'].unique()\n",
    "for accent in french_accents:\n",
    "    accent_total = len(df.loc[df['accent'] == accent])\n",
    "    print(accent, ': ', accent_total)\n",
    "\n",
    "print('NaN: ', len(df.loc[df['accent'].isna()]))"
   ]
  },
  {
   "cell_type": "code",
   "execution_count": 23,
   "id": "76b2343b",
   "metadata": {},
   "outputs": [
    {
     "name": "stdout",
     "output_type": "stream",
     "text": [
      "nan :  0\n",
      "russia :  940\n",
      "germany :  437712\n",
      "france :  1405\n",
      "switzerland :  8602\n",
      "austria :  20659\n",
      "bulgaria :  1\n",
      "netherlands :  75\n",
      "denmark :  1\n",
      "poland :  103\n",
      "turkey :  24\n",
      "united_kingdom :  148\n",
      "czechia :  37\n",
      "united_states :  268\n",
      "greece :  120\n",
      "hungary :  151\n",
      "other :  184\n",
      "belgium :  9\n",
      "slovakia :  62\n",
      "lithuania :  5\n",
      "luxembourg :  57\n",
      "canada :  98\n",
      "liechtenstein :  62\n",
      "slovenia :  10\n",
      "brazil :  12\n",
      "italy :  978\n",
      "finland :  31\n",
      "NaN:  213040\n"
     ]
    }
   ],
   "source": [
    "# german accents \n",
    "\n",
    "german_accents = df['accent'].unique()\n",
    "for accent in german_accents:\n",
    "    accent_total = len(df.loc[df['accent'] == accent])\n",
    "    print(accent, ': ', accent_total)\n",
    "\n",
    "print('NaN: ', len(df.loc[df['accent'].isna()]))"
   ]
  },
  {
   "cell_type": "code",
   "execution_count": 30,
   "id": "1a83a43e",
   "metadata": {},
   "outputs": [
    {
     "name": "stdout",
     "output_type": "stream",
     "text": [
      "mexicano :  16924\n",
      "nan :  0\n",
      "americacentral :  5532\n",
      "andino :  13729\n",
      "caribe :  8235\n",
      "centrosurpeninsular :  8713\n",
      "rioplatense :  12102\n",
      "chileno :  5316\n",
      "surpeninsular :  32622\n",
      "nortepeninsular :  35345\n",
      "canario :  952\n",
      "filipinas :  342\n",
      "NaN:  131198\n"
     ]
    }
   ],
   "source": [
    "# spanish accents \n",
    "\n",
    "spanish_accents = df['accent'].unique()\n",
    "for accent in spanish_accents:\n",
    "    accent_total = len(df.loc[df['accent'] == accent])\n",
    "    print(accent, ': ', accent_total)\n",
    "\n",
    "print('NaN: ', len(df.loc[df['accent'].isna()]))"
   ]
  },
  {
   "cell_type": "code",
   "execution_count": 39,
   "id": "f39044ed",
   "metadata": {},
   "outputs": [
    {
     "name": "stdout",
     "output_type": "stream",
     "text": [
      "nan :  0\n",
      "hongkong :  2750\n",
      "us :  351472\n",
      "england :  118401\n",
      "african :  8066\n",
      "indian :  73030\n",
      "other :  10505\n",
      "australia :  46951\n",
      "canada :  48453\n",
      "scotland :  12676\n",
      "philippines :  4158\n",
      "singapore :  2967\n",
      "bermuda :  643\n",
      "newzealand :  11281\n",
      "malaysia :  1685\n",
      "ireland :  9233\n",
      "wales :  1550\n",
      "southatlandtic :  203\n",
      "NaN:  721760\n"
     ]
    }
   ],
   "source": [
    "# english accents \n",
    "\n",
    "english_accents = df['accent'].unique()\n",
    "for accent in english_accents:\n",
    "    accent_total = len(df.loc[df['accent'] == accent])\n",
    "    print(accent, ': ', accent_total)\n",
    "\n",
    "print('NaN: ', len(df.loc[df['accent'].isna()]))"
   ]
  },
  {
   "cell_type": "code",
   "execution_count": null,
   "id": "286af20f",
   "metadata": {},
   "outputs": [],
   "source": []
  }
 ],
 "metadata": {
  "kernelspec": {
   "display_name": "Python 3",
   "language": "python",
   "name": "python3"
  },
  "language_info": {
   "codemirror_mode": {
    "name": "ipython",
    "version": 3
   },
   "file_extension": ".py",
   "mimetype": "text/x-python",
   "name": "python",
   "nbconvert_exporter": "python",
   "pygments_lexer": "ipython3",
   "version": "3.8.10"
  }
 },
 "nbformat": 4,
 "nbformat_minor": 5
}
