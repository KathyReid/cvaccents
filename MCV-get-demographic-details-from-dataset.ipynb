{
 "cells": [
  {
   "cell_type": "markdown",
   "id": "747d78b5",
   "metadata": {},
   "source": [
    "# Get demographic details from an MCV dataset \n",
    "\n",
    "The purpose of this script is to get demographic details from an MCV downloaded dataset. \n",
    "This informs decision making around, for example, how much of the data in a particular language, has demographic details, and if so, what they are. "
   ]
  },
  {
   "cell_type": "code",
   "execution_count": 3,
   "id": "9e2024b2",
   "metadata": {},
   "outputs": [],
   "source": [
    "# imports go here \n",
    "\n",
    "# io \n",
    "import io\n",
    "\n",
    "# pandas \n",
    "import pandas as pd\n"
   ]
  },
  {
   "cell_type": "code",
   "execution_count": 17,
   "id": "fd75b9e3",
   "metadata": {},
   "outputs": [],
   "source": [
    "# specify the path to the TSV file - this should be `validated.tsv` from the MCV download \n",
    "filePath = '../ja/validated.tsv'\n",
    "\n",
    "# put it into a DataFrame \n",
    "df = pd.read_csv(filePath, sep='\\t')"
   ]
  },
  {
   "cell_type": "code",
   "execution_count": 19,
   "id": "e810b905",
   "metadata": {},
   "outputs": [
    {
     "data": {
      "text/plain": [
       "<bound method DataFrame.value_counts of                                                client_id  \\\n",
       "0      033ede7ca4c60dc27cef421b4d33799d38924ed36fa8dd...   \n",
       "1      087edae49ce1e0f600682ceccc7fc28e81e64ae890e647...   \n",
       "2      09e6ae463786aae9071baa9044ac8b7466aa7c48dcdaf4...   \n",
       "3      15b7d87a73d28b37664fdf7fea1ff232f89e80ce954c9b...   \n",
       "4      1c6e8463b08279962ad37c0946d0b1df78a82a4c907f4b...   \n",
       "...                                                  ...   \n",
       "21021  02a8841a00d762472a4797b56ee01643e8d9ece5a225f2...   \n",
       "21022  02a8841a00d762472a4797b56ee01643e8d9ece5a225f2...   \n",
       "21023  02a8841a00d762472a4797b56ee01643e8d9ece5a225f2...   \n",
       "21024  02a8841a00d762472a4797b56ee01643e8d9ece5a225f2...   \n",
       "21025  02a8841a00d762472a4797b56ee01643e8d9ece5a225f2...   \n",
       "\n",
       "                               path  \\\n",
       "0      common_voice_ja_21409740.mp3   \n",
       "1      common_voice_ja_22072759.mp3   \n",
       "2      common_voice_ja_23677003.mp3   \n",
       "3      common_voice_ja_19499629.mp3   \n",
       "4      common_voice_ja_22717324.mp3   \n",
       "...                             ...   \n",
       "21021  common_voice_ja_27369273.mp3   \n",
       "21022  common_voice_ja_27388440.mp3   \n",
       "21023  common_voice_ja_27388441.mp3   \n",
       "21024  common_voice_ja_27388443.mp3   \n",
       "21025  common_voice_ja_27388457.mp3   \n",
       "\n",
       "                                                sentence  up_votes  \\\n",
       "0                             祖母は、おおむね機嫌よく、サイコロをころがしている。         2   \n",
       "1                                     財布をなくしたので、交番へ行きます。         2   \n",
       "2                          背の高さは一七〇センチほどで、目が大きく、やや太っている。         2   \n",
       "3                                         新しい靴をはいて出かけます。         2   \n",
       "4                                 松井さんはサッカーより野球のほうが上手です。         2   \n",
       "...                                                  ...       ...   \n",
       "21021                                月並みなアイデアからヒントを見つけだす         2   \n",
       "21022  直観とはただ我々の自己が世界の形成作用として、世界の中に含まれているということでなければならない。         2   \n",
       "21023                                   斯くあったから斯くすべしとして。         2   \n",
       "21024            いつも自己自身の中に自己を越えたもの、超越的なるものを含むということができる。         2   \n",
       "21025                                   今回のバージョンアップはいい感じ         2   \n",
       "\n",
       "       down_votes       age  gender  accent locale segment  \n",
       "0               0       NaN     NaN     NaN     ja     NaN  \n",
       "1               0     teens  female     NaN     ja     NaN  \n",
       "2               0       NaN     NaN     NaN     ja     NaN  \n",
       "3               0       NaN     NaN     NaN     ja     NaN  \n",
       "4               0  thirties    male     NaN     ja     NaN  \n",
       "...           ...       ...     ...     ...    ...     ...  \n",
       "21021           0  fourties  female     NaN     ja     NaN  \n",
       "21022           0  fourties  female     NaN     ja     NaN  \n",
       "21023           0  fourties  female     NaN     ja     NaN  \n",
       "21024           0  fourties  female     NaN     ja     NaN  \n",
       "21025           0  fourties  female     NaN     ja     NaN  \n",
       "\n",
       "[21026 rows x 10 columns]>"
      ]
     },
     "execution_count": 19,
     "metadata": {},
     "output_type": "execute_result"
    }
   ],
   "source": [
    "# summary data \n",
    "df.value_counts"
   ]
  },
  {
   "cell_type": "code",
   "execution_count": 23,
   "id": "74e3fefb",
   "metadata": {},
   "outputs": [
    {
     "data": {
      "text/plain": [
       "368"
      ]
     },
     "execution_count": 23,
     "metadata": {},
     "output_type": "execute_result"
    }
   ],
   "source": [
    "# unique contributors \n",
    "len(df['client_id'].unique())"
   ]
  },
  {
   "cell_type": "code",
   "execution_count": 25,
   "id": "f8e90d46",
   "metadata": {},
   "outputs": [
    {
     "data": {
      "text/plain": [
       "15728"
      ]
     },
     "execution_count": 25,
     "metadata": {},
     "output_type": "execute_result"
    }
   ],
   "source": [
    "# rows that have metadata \n",
    "len(df[df['age'].notna()])\n"
   ]
  },
  {
   "cell_type": "code",
   "execution_count": 30,
   "id": "4156a03e",
   "metadata": {},
   "outputs": [
    {
     "data": {
      "text/plain": [
       "array([nan, 'teens', 'thirties', 'fourties', 'twenties', 'fifties'],\n",
       "      dtype=object)"
      ]
     },
     "execution_count": 30,
     "metadata": {},
     "output_type": "execute_result"
    }
   ],
   "source": [
    "# get all the age ranges \n",
    "df['age'].unique()"
   ]
  },
  {
   "cell_type": "code",
   "execution_count": 48,
   "id": "9769ef76",
   "metadata": {},
   "outputs": [
    {
     "name": "stdout",
     "output_type": "stream",
     "text": [
      "teens:  704\n",
      "twenties:  7586\n",
      "thirties:  1980\n",
      "fourties:  5308\n",
      "fifties:  150\n",
      "sixties:  0\n",
      "seventies:  0\n",
      "eighties:  0\n",
      "nineties:  0\n",
      "NaN:  5298\n"
     ]
    }
   ],
   "source": [
    "# age ranges\n",
    "\n",
    "print('teens: ', len(df.loc[df['age'] == 'teens']))\n",
    "print('twenties: ', len(df.loc[df['age'] == 'twenties']))\n",
    "print('thirties: ', len(df.loc[df['age'] == 'thirties']))\n",
    "print('fourties: ', len(df.loc[df['age'] == 'fourties']))\n",
    "print('fifties: ', len(df.loc[df['age'] == 'fifties']))\n",
    "print('sixties: ', len(df.loc[df['age'] == 'sixties']))\n",
    "print('seventies: ', len(df.loc[df['age'] == 'seventies']))\n",
    "print('eighties: ', len(df.loc[df['age'] == 'eighties']))\n",
    "print('nineties: ', len(df.loc[df['age'] == 'nineties']))\n",
    "\n",
    "print('NaN: ', len(df.loc[df['age'].isna()]))"
   ]
  },
  {
   "cell_type": "code",
   "execution_count": 49,
   "id": "5e8954f6",
   "metadata": {},
   "outputs": [
    {
     "data": {
      "text/plain": [
       "array([nan, 'female', 'male', 'other'], dtype=object)"
      ]
     },
     "execution_count": 49,
     "metadata": {},
     "output_type": "execute_result"
    }
   ],
   "source": [
    "# get the genders \n",
    "\n",
    "df['gender'].unique()"
   ]
  },
  {
   "cell_type": "code",
   "execution_count": 51,
   "id": "9ee23ac9",
   "metadata": {},
   "outputs": [
    {
     "name": "stdout",
     "output_type": "stream",
     "text": [
      "female:  5427\n",
      "male:  11101\n",
      "other:  30\n",
      "NaN:  4468\n"
     ]
    }
   ],
   "source": [
    "# genders\n",
    "\n",
    "print('female: ', len(df.loc[df['gender'] == 'female']))\n",
    "print('male: ', len(df.loc[df['gender'] == 'male']))\n",
    "print('other: ', len(df.loc[df['gender'] == 'other']))\n",
    "\n",
    "print('NaN: ', len(df.loc[df['gender'].isna()]))"
   ]
  },
  {
   "cell_type": "code",
   "execution_count": 52,
   "id": "59f0583c",
   "metadata": {},
   "outputs": [
    {
     "data": {
      "text/plain": [
       "array([nan])"
      ]
     },
     "execution_count": 52,
     "metadata": {},
     "output_type": "execute_result"
    }
   ],
   "source": [
    "# get the accents \n",
    "\n",
    "df['accent'].unique()"
   ]
  },
  {
   "cell_type": "code",
   "execution_count": null,
   "id": "577bb6d9",
   "metadata": {},
   "outputs": [],
   "source": []
  }
 ],
 "metadata": {
  "kernelspec": {
   "display_name": "Python 3",
   "language": "python",
   "name": "python3"
  },
  "language_info": {
   "codemirror_mode": {
    "name": "ipython",
    "version": 3
   },
   "file_extension": ".py",
   "mimetype": "text/x-python",
   "name": "python",
   "nbconvert_exporter": "python",
   "pygments_lexer": "ipython3",
   "version": "3.8.10"
  }
 },
 "nbformat": 4,
 "nbformat_minor": 5
}
